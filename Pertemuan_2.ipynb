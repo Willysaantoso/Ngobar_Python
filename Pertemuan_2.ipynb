{
  "nbformat": 4,
  "nbformat_minor": 0,
  "metadata": {
    "colab": {
      "provenance": [],
      "collapsed_sections": [
        "4wbtMOLy9NQQ",
        "2GaEk52X7RqK",
        "EZddaQsDBfnM",
        "xHtIhkdHD3ZP",
        "FtinAaxZHgFf",
        "UNXRZIVoJ7-r",
        "nuJ_-lhJL-La",
        "f36F8l5aOCQL",
        "U3OIE3wHQQJa",
        "_qf1zSoaRvR-"
      ],
      "include_colab_link": true
    },
    "kernelspec": {
      "name": "python3",
      "display_name": "Python 3"
    },
    "language_info": {
      "name": "python"
    }
  },
  "cells": [
    {
      "cell_type": "markdown",
      "metadata": {
        "id": "view-in-github",
        "colab_type": "text"
      },
      "source": [
        "<a href=\"https://colab.research.google.com/github/Willysaantoso/Ngobar_Python/blob/main/Pertemuan_2.ipynb\" target=\"_parent\"><img src=\"https://colab.research.google.com/assets/colab-badge.svg\" alt=\"Open In Colab\"/></a>"
      ]
    },
    {
      "cell_type": "markdown",
      "source": [
        "# Menerima Input Dari Pengguna"
      ],
      "metadata": {
        "id": "4wbtMOLy9NQQ"
      }
    },
    {
      "cell_type": "code",
      "source": [
        "# Meminta input angka pertama\n",
        "angka1 = int(input(\"Masukkan angka pertama: \"))\n",
        "\n",
        "# Meminta input angka kedua\n",
        "angka2 = int(input(\"Masukkan angka kedua: \"))\n",
        "\n",
        "# Menjumlahkan angka\n",
        "hasil = angka1 + angka2\n",
        "\n",
        "# Menampilkan hasil\n",
        "print(f\"Hasil penjumlahan adalah: {hasil}\")"
      ],
      "metadata": {
        "id": "kZY9LwG4_Alr",
        "colab": {
          "base_uri": "https://localhost:8080/"
        },
        "outputId": "e93d7f6a-abd2-4b24-da91-2ccbc3ea0498"
      },
      "execution_count": null,
      "outputs": [
        {
          "output_type": "stream",
          "name": "stdout",
          "text": [
            "Masukkan angka pertama: 98\n",
            "Masukkan angka kedua: 98888\n",
            "Hasil penjumlahan adalah: 98986\n"
          ]
        }
      ]
    },
    {
      "cell_type": "markdown",
      "source": [
        "Penjelasan:\n",
        "\n",
        "Fungsi int() digunakan untuk mengonversi input (yang default-nya string) menjadi angka.\n",
        "Dua angka dijumlahkan, dan hasilnya disimpan dalam variabel hasil.\n",
        "Hasil ditampilkan menggunakan F-String."
      ],
      "metadata": {
        "id": "MRZSIui89yVR"
      }
    },
    {
      "cell_type": "markdown",
      "source": [
        "# Function\n"
      ],
      "metadata": {
        "id": "2GaEk52X7RqK"
      }
    },
    {
      "cell_type": "markdown",
      "source": [
        "Fungsi adalah blok kode yang dirancang untuk melakukan tugas tertentu dan dapat digunakan berulang kali. Tujuan adalah untuk:\n",
        "\n",
        "*   Blok kode yang dapat digunakan berulang kali.\n",
        "*   Memudahkan dalam mengorganisasi kode menjadi bagian-bagian yang lebih kecil.\n",
        "*   Meningkatkan keterbacaan dan pemeliharaan kode.\n"
      ],
      "metadata": {
        "id": "RGAlD8Uy7UjE"
      }
    },
    {
      "cell_type": "markdown",
      "source": [
        "**Def**\n",
        "\n",
        "def adalah kata kunci dalam Python yang digunakan untuk mendefinisikan sebuah fungsi. Fungsi adalah blok kode yang dapat digunakan kembali untuk melakukan tugas tertentu. Dengan menggunakan def, Kita dapat membuat fungsi sendiri sesuai kebutuhan."
      ],
      "metadata": {
        "id": "DjcZOZZc78bI"
      }
    },
    {
      "cell_type": "code",
      "source": [
        "def salam_pengguna():\n",
        "    \"\"\"Fungsi untuk meminta input nama dan memberikan salam.\"\"\"\n",
        "    nama = input(\"Masukkan nama Anda: \")\n",
        "    waktu = input(\"Masukkan waktu (pagi/siang/sore/malam): \")\n",
        "    return f\"Selamat {waktu}, {nama}!\"\n",
        "\n",
        "# Memanggil fungsi\n",
        "pesan = salam_pengguna()\n",
        "print(pesan)\n"
      ],
      "metadata": {
        "colab": {
          "base_uri": "https://localhost:8080/"
        },
        "id": "F4BPSd_P7z1P",
        "outputId": "bfdee3d0-d2ce-43b1-875a-09d59e1218f3"
      },
      "execution_count": null,
      "outputs": [
        {
          "output_type": "stream",
          "name": "stdout",
          "text": [
            "Masukkan nama Anda: rio\n",
            "Masukkan waktu (pagi/siang/sore/malam): sore\n",
            "Selamat sore, rio!\n"
          ]
        }
      ]
    },
    {
      "cell_type": "markdown",
      "source": [
        "**Main**\n",
        "\n",
        "main dalam Python adalah istilah yang sering digunakan untuk menunjukkan titik awal eksekusi program. Python tidak memiliki fungsi main() bawaan seperti di beberapa bahasa pemrograman lain (contohnya C atau Java), tetapi praktik yang umum adalah membuat fungsi main() sendiri untuk mengorganisasi kode utama."
      ],
      "metadata": {
        "id": "O-iMW2t8_PCu"
      }
    },
    {
      "cell_type": "markdown",
      "source": [
        "**Struktur Dasar Main**"
      ],
      "metadata": {
        "id": "0-0Pihyn__OC"
      }
    },
    {
      "cell_type": "code",
      "source": [
        "def main():\n",
        "    # Blok kode utama program\n",
        "    print(\"Program dimulai di sini.\")\n",
        "\n",
        "# Menjalankan fungsi main\n",
        "if __name__ == \"__main__\":\n",
        "    main()\n"
      ],
      "metadata": {
        "colab": {
          "base_uri": "https://localhost:8080/"
        },
        "id": "gfrcVPrsADiY",
        "outputId": "1b4be076-5426-4bf3-9c98-9794cb9ebfb6"
      },
      "execution_count": null,
      "outputs": [
        {
          "output_type": "stream",
          "name": "stdout",
          "text": [
            "Program dimulai di sini.\n"
          ]
        }
      ]
    },
    {
      "cell_type": "markdown",
      "source": [
        "**Penjelasan:**\n",
        "main(): Fungsi yang biasanya dibuat untuk menuliskan logika utama program.\n",
        "if __name__ == \"__main__\"::\n",
        "Blok ini memastikan bahwa kode hanya dieksekusi jika file tersebut dijalankan langsung, bukan diimpor sebagai modul di file lain.\n",
        "__name__ adalah variabel bawaan Python yang bernilai \"__main__\" jika file dijalankan langsung."
      ],
      "metadata": {
        "id": "vTFV0bIRALBw"
      }
    },
    {
      "cell_type": "markdown",
      "source": [
        "**Contoh Fungsi Main**"
      ],
      "metadata": {
        "id": "1bZDPIttAY5x"
      }
    },
    {
      "cell_type": "code",
      "source": [
        "# Fungsi tambahan untuk menjumlahkan dua angka\n",
        "def jumlahkan(angka1, angka2):\n",
        "    return angka1 + angka2\n",
        "\n",
        "# Fungsi utama (main)\n",
        "def main():\n",
        "    print(\"Program Penjumlahan Dua Angka\")\n",
        "    angka1 = int(input(\"Masukkan angka pertama: \"))\n",
        "    angka2 = int(input(\"Masukkan angka kedua: \"))\n",
        "\n",
        "    hasil = jumlahkan(angka1, angka2)\n",
        "    print(f\"Hasil penjumlahan adalah: {hasil}\")\n",
        "\n",
        "# Menjalankan fungsi main\n",
        "if __name__ == \"__main__\":\n",
        "    main()"
      ],
      "metadata": {
        "colab": {
          "base_uri": "https://localhost:8080/"
        },
        "id": "DQPdci8eAfZI",
        "outputId": "179250d1-47f0-48ee-e88e-13ad6b95f213"
      },
      "execution_count": null,
      "outputs": [
        {
          "output_type": "stream",
          "name": "stdout",
          "text": [
            "Program Penjumlahan Dua Angka\n",
            "Masukkan angka pertama: 121\n",
            "Masukkan angka kedua: 41\n",
            "Hasil penjumlahan adalah: 162\n"
          ]
        }
      ]
    },
    {
      "cell_type": "markdown",
      "source": [
        "Inti dari Program:\n",
        "Fungsi jumlahkan: Fungsi pendukung untuk menjumlahkan dua angka.\n",
        "Fungsi main: Mengatur alur utama program, meminta input pengguna, memanggil fungsi pendukung, dan menampilkan hasil.\n",
        "Blok if __name__ == \"__main__\":: Memastikan fungsi main hanya dijalankan jika file ini dijalankan langsung, bukan diimpor ke file lain.\n"
      ],
      "metadata": {
        "id": "HHtPd9SgBaKZ"
      }
    },
    {
      "cell_type": "markdown",
      "source": [
        "# Scope Variabel"
      ],
      "metadata": {
        "id": "EZddaQsDBfnM"
      }
    },
    {
      "cell_type": "markdown",
      "source": [
        "Scope variabel merujuk pada jangkauan atau area dalam kode di mana suatu variabel dapat diakses atau digunakan. Di Python, scope variabel dibedakan menjadi beberapa jenis, tergantung pada tempat di mana variabel didefinisikan. Ada dua jenis scope utama: local scope dan global scope."
      ],
      "metadata": {
        "id": "xc6GJgooB_bC"
      }
    },
    {
      "cell_type": "markdown",
      "source": [
        "**Local Scope**"
      ],
      "metadata": {
        "id": "ocIip_y7CYyT"
      }
    },
    {
      "cell_type": "code",
      "source": [
        "def Total_Peserta_Ngobar():\n",
        "    x = 50  # x hanya dapat diakses dalam fungsi ini\n",
        "    print(f\"Peserta Ngobar Berjumlah: {x}\")\n",
        "\n",
        "Total_Peserta_Ngobar()\n",
        "\n",
        "# Akan menyebabkan error karena x tidak ada di luar fungsi\n",
        "# print(x)  # Error: NameError"
      ],
      "metadata": {
        "colab": {
          "base_uri": "https://localhost:8080/"
        },
        "id": "3bwIxpXsCYfr",
        "outputId": "6222545c-c4ea-4b30-e6ac-5647b823dc19"
      },
      "execution_count": null,
      "outputs": [
        {
          "output_type": "stream",
          "name": "stdout",
          "text": [
            "Peserta Ngobar Berjumlah: 50\n"
          ]
        }
      ]
    },
    {
      "cell_type": "markdown",
      "source": [
        "**Global Scope**"
      ],
      "metadata": {
        "id": "t8Yd2919C8eJ"
      }
    },
    {
      "cell_type": "code",
      "source": [
        "universitas = [\"unkris\",\"Asyafiiyah\"]\n",
        "Jurusan = \"Teknik Informatika\"\n",
        "\n",
        "def Peserta_Ngobar():\n",
        "    print(f\"Peserta Ngobar Berasal Dari {universitas[0]} Jurusan {Jurusan}\")\n",
        "\n",
        "Peserta_Ngobar()"
      ],
      "metadata": {
        "colab": {
          "base_uri": "https://localhost:8080/"
        },
        "id": "i4gMOn0ODBnU",
        "outputId": "f3996624-ef36-4528-ad76-2bdae34c9d44"
      },
      "execution_count": null,
      "outputs": [
        {
          "output_type": "stream",
          "name": "stdout",
          "text": [
            "Peserta Ngobar Berasal Dari unkris Jurusan Teknik Informatika\n"
          ]
        }
      ]
    },
    {
      "cell_type": "markdown",
      "source": [
        "# Parameter & Argumen"
      ],
      "metadata": {
        "id": "xHtIhkdHD3ZP"
      }
    },
    {
      "cell_type": "markdown",
      "source": [
        "Argumen dan parameter adalah dua konsep penting dalam fungsi di Python (dan banyak bahasa pemrograman lainnya). Meskipun sering digunakan bersama-sama, keduanya memiliki perbedaan yang jelas."
      ],
      "metadata": {
        "id": "FZpDKNFIEXxo"
      }
    },
    {
      "cell_type": "markdown",
      "source": [
        "**1. Parameter**\n",
        "Parameter adalah variabel yang didefinisikan dalam deklarasi fungsi dan digunakan untuk menerima input dari luar fungsi. Parameter berfungsi sebagai \"tempat penampung\" untuk nilai yang akan diproses oleh fungsi."
      ],
      "metadata": {
        "id": "XYThSy0EEZwV"
      }
    },
    {
      "cell_type": "code",
      "source": [
        "def tambah(a, b):  # a dan b adalah parameter\n",
        "    return a + b\n",
        "\n",
        "#Memanggil fungsi dengan argumen\n",
        "\n",
        "hasil = tambah(5, 7)\n",
        "\n",
        "# Menampilkan hasil\n",
        "print(\"Hasil penjumlahan:\", hasil)"
      ],
      "metadata": {
        "colab": {
          "base_uri": "https://localhost:8080/"
        },
        "id": "-eX4jeccEoaU",
        "outputId": "e44fab29-b677-4b8e-ede9-33ccbcc8b034"
      },
      "execution_count": null,
      "outputs": [
        {
          "output_type": "stream",
          "name": "stdout",
          "text": [
            "Hasil penjumlahan: 12\n"
          ]
        }
      ]
    },
    {
      "cell_type": "markdown",
      "source": [
        "**2. Argumen**  adalah nilai yang diberikan kepada fungsi ketika fungsi dipanggil. Nilai-nilai ini dioper ke parameter yang sesuai."
      ],
      "metadata": {
        "id": "ogrGSDc4Fyst"
      }
    },
    {
      "cell_type": "code",
      "source": [
        "result = tambah(5, 3)  # 5 dan 3 adalah argumen\n",
        "print(result)\n"
      ],
      "metadata": {
        "colab": {
          "base_uri": "https://localhost:8080/"
        },
        "id": "4qQVIbkeGKy_",
        "outputId": "5e9348e6-67b2-41ba-cd8b-5d1666d17700"
      },
      "execution_count": null,
      "outputs": [
        {
          "output_type": "stream",
          "name": "stdout",
          "text": [
            "8\n"
          ]
        }
      ]
    },
    {
      "cell_type": "markdown",
      "source": [
        "# Jenis Argumen Python"
      ],
      "metadata": {
        "id": "FtinAaxZHgFf"
      }
    },
    {
      "cell_type": "markdown",
      "source": [
        "**1. Positional Arguments**\n",
        "Argumen yang diberikan berdasarkan urutan. Nilai argumen akan dipetakan ke parameter sesuai dengan urutannya."
      ],
      "metadata": {
        "id": "pDIUpkySHlfZ"
      }
    },
    {
      "cell_type": "code",
      "source": [
        "def jumlahkan(x, y):\n",
        "    return x + y\n",
        "\n",
        "result = jumlahkan(4, 7)  # 4 akan dipetakan ke x, 7 ke y\n",
        "print(result)  # Output: 8"
      ],
      "metadata": {
        "colab": {
          "base_uri": "https://localhost:8080/"
        },
        "id": "AzmNWDUYHuj4",
        "outputId": "f1cf955e-17c8-45c6-e06f-68e714bbc009"
      },
      "execution_count": null,
      "outputs": [
        {
          "output_type": "stream",
          "name": "stdout",
          "text": [
            "11\n"
          ]
        }
      ]
    },
    {
      "cell_type": "markdown",
      "source": [
        "**2. Keyword Arguments**\n",
        "Argumen yang diberikan dengan menyebutkan nama parameter. Dengan keyword arguments, urutan argumen tidak penting."
      ],
      "metadata": {
        "id": "kLulMqaKH5kO"
      }
    },
    {
      "cell_type": "code",
      "source": [
        "def sapa(nama, umur):\n",
        "    print(f\"Halo, {nama}! Kamu berumur {umur} tahun.\")\n",
        "\n",
        "sapa(umur=30, nama=\"Andi\")\n"
      ],
      "metadata": {
        "colab": {
          "base_uri": "https://localhost:8080/"
        },
        "id": "pldhDaQUH_Jk",
        "outputId": "a8328bd6-b0f5-4fb9-8fea-c776d559aedd"
      },
      "execution_count": null,
      "outputs": [
        {
          "output_type": "stream",
          "name": "stdout",
          "text": [
            "Halo, Andi! Kamu berumur 30 tahun.\n"
          ]
        }
      ]
    },
    {
      "cell_type": "markdown",
      "source": [
        "**3. Default Arguments**\n",
        "Parameter yang memiliki nilai default, yang akan digunakan jika tidak ada argumen yang diberikan."
      ],
      "metadata": {
        "id": "sLqYy0mhIExI"
      }
    },
    {
      "cell_type": "code",
      "source": [
        "def sapa(nama, umur=20):\n",
        "    print(f\"Halo, {nama}! Kamu berumur {umur} tahun.\")\n",
        "\n",
        "sapa(\"Niel\")  # umur akan menggunakan nilai default 20\n",
        "sapa(\"putu\", 25)  # umur diberikan nilai 25, menggantikan default\n"
      ],
      "metadata": {
        "colab": {
          "base_uri": "https://localhost:8080/"
        },
        "id": "wxMgS1JfIJpg",
        "outputId": "9bb18ceb-9985-415c-ee65-1e3db473e682"
      },
      "execution_count": null,
      "outputs": [
        {
          "output_type": "stream",
          "name": "stdout",
          "text": [
            "Halo, Niel! Kamu berumur 20 tahun.\n",
            "Halo, putu! Kamu berumur 25 tahun.\n"
          ]
        }
      ]
    },
    {
      "cell_type": "markdown",
      "source": [
        "**4. 'args' (Arbitrary Positional Arguments)**\n",
        "Dengan *args, kita bisa menangani sejumlah argumen yang diberikan kepada fungsi. args akan menjadi sebuah tuple yang berisi semua argumen posisi yang diberikan."
      ],
      "metadata": {
        "id": "k8_mbjC9IRks"
      }
    },
    {
      "cell_type": "code",
      "source": [
        "def jumlahkan(*args):\n",
        "    total = 0\n",
        "    for angka in args:\n",
        "        total += angka\n",
        "    return total\n",
        "\n",
        "# Memanggil fungsi dengan berbagai jumlah argumen\n",
        "print(jumlahkan(1, 2))         # Output: 3\n",
        "print(jumlahkan(1, 2, 3, 4))   # Output: 10\n",
        "print(jumlahkan(5, 10, 15))    # Output: 30"
      ],
      "metadata": {
        "colab": {
          "base_uri": "https://localhost:8080/"
        },
        "id": "08kctb6QIkzX",
        "outputId": "7b66e141-81e0-49e1-ac90-32df43b81a4c"
      },
      "execution_count": null,
      "outputs": [
        {
          "output_type": "stream",
          "name": "stdout",
          "text": [
            "3\n",
            "10\n",
            "30\n"
          ]
        }
      ]
    },
    {
      "cell_type": "markdown",
      "source": [
        "Penjelasan:\n",
        "\n",
        "Fungsi jumlahkan menggunakan *args untuk menerima sejumlah argumen posisi yang tidak tetap.\n",
        "Semua argumen yang diberikan (misalnya 1, 2, 3, 4) dikumpulkan dalam bentuk tuple di dalam args.\n",
        "Fungsi kemudian menjumlahkan semua elemen dalam args dan mengembalikan hasilnya."
      ],
      "metadata": {
        "id": "EYU-nP9hIqMz"
      }
    },
    {
      "cell_type": "markdown",
      "source": [
        "# Return Value"
      ],
      "metadata": {
        "id": "UNXRZIVoJ7-r"
      }
    },
    {
      "cell_type": "markdown",
      "source": [
        "Return Value dalam pemrograman, termasuk di Python, adalah nilai yang dikembalikan oleh sebuah fungsi setelah fungsi tersebut selesai dieksekusi. Nilai ini dapat digunakan kembali di tempat lain dalam program, baik untuk disimpan dalam variabel, dicetak, atau digunakan dalam operasi lain.\n",
        "\n",
        "Fungsi Python menggunakan kata kunci return untuk mengembalikan nilai."
      ],
      "metadata": {
        "id": "VuHIuKFxJ_gY"
      }
    },
    {
      "cell_type": "markdown",
      "source": [
        "**Contoh 1: Mengembalikan hasil penjumlahan\n",
        "python**"
      ],
      "metadata": {
        "id": "zfPwekLSKNMz"
      }
    },
    {
      "cell_type": "code",
      "source": [
        "def tambah(a, b):\n",
        "    return a + b  # Mengembalikan hasil penjumlahan\n",
        "\n",
        "# Menyimpan nilai yang dikembalikan ke variabel\n",
        "hasil = tambah(5, 7)\n",
        "print(\"Hasil penjumlahan:\", hasil)  # Output: Hasil penjumlahan: 12"
      ],
      "metadata": {
        "colab": {
          "base_uri": "https://localhost:8080/"
        },
        "id": "10vbGiseKTko",
        "outputId": "e43ad0f8-8723-4301-fe10-be9e290e9ced"
      },
      "execution_count": null,
      "outputs": [
        {
          "output_type": "stream",
          "name": "stdout",
          "text": [
            "Hasil penjumlahan: 12\n"
          ]
        }
      ]
    },
    {
      "cell_type": "markdown",
      "source": [
        "*   return a + b mengembalikan nilai hasil penjumlahan a dan b ke tempat di mana fungsi dipanggil.\n",
        "*   Nilai yang dikembalikan disimpan dalam variabel hasil."
      ],
      "metadata": {
        "id": "Y9ns1fEaKXzw"
      }
    },
    {
      "cell_type": "markdown",
      "source": [
        "**Contoh 2: Mengembalikan nilai boolean**"
      ],
      "metadata": {
        "id": "WnBzVKWzKqg-"
      }
    },
    {
      "cell_type": "code",
      "source": [
        "def cek_genap(angka):\n",
        "    return angka % 2 == 0  # Mengembalikan True jika angka genap, False jika ganjil\n",
        "\n",
        "# Memeriksa bilangan\n",
        "print(cek_genap(10))  # Output: True\n",
        "print(cek_genap(7))   # Output: False"
      ],
      "metadata": {
        "colab": {
          "base_uri": "https://localhost:8080/"
        },
        "id": "e4JNvzPoKv4T",
        "outputId": "2161a8f7-b3c0-4c96-d670-d40986803433"
      },
      "execution_count": null,
      "outputs": [
        {
          "output_type": "stream",
          "name": "stdout",
          "text": [
            "True\n",
            "False\n"
          ]
        }
      ]
    },
    {
      "cell_type": "markdown",
      "source": [
        "*   Fungsi cek_genap mengembalikan nilai True atau False berdasarkan hasil operasi."
      ],
      "metadata": {
        "id": "TeZydBWnLEiJ"
      }
    },
    {
      "cell_type": "markdown",
      "source": [
        "**Contoh 3: Mengembalikan beberapa nilai sekaligus**"
      ],
      "metadata": {
        "id": "nGvvgMQPLVfd"
      }
    },
    {
      "cell_type": "code",
      "source": [
        "def hitung(a, b):\n",
        "    return a + b, a - b, a * b  # Mengembalikan tiga hasil operasi sekaligus\n",
        "\n",
        "# Menyimpan nilai yang dikembalikan ke variabel\n",
        "penjumlahan, pengurangan, perkalian = hitung(10, 5)\n",
        "print(\"Penjumlahan:\", penjumlahan)  # Output: 15\n",
        "print(\"Pengurangan:\", pengurangan)  # Output: 5\n",
        "print(\"Perkalian:\", perkalian)      # Output: 50\n"
      ],
      "metadata": {
        "colab": {
          "base_uri": "https://localhost:8080/"
        },
        "id": "CW71UmujLWLt",
        "outputId": "2739607e-40f7-4381-a3b2-1adc521e5577"
      },
      "execution_count": null,
      "outputs": [
        {
          "output_type": "stream",
          "name": "stdout",
          "text": [
            "Penjumlahan: 15\n",
            "Pengurangan: 5\n",
            "Perkalian: 50\n"
          ]
        }
      ]
    },
    {
      "cell_type": "markdown",
      "source": [
        "Fungsi hitung mengembalikan tiga nilai dalam bentuk tuple.\n",
        "Nilai yang dikembalikan dapat diakses secara individual."
      ],
      "metadata": {
        "id": "I-I_EyViLgEI"
      }
    },
    {
      "cell_type": "markdown",
      "source": [
        "**Fungsi tanpa Return Value**"
      ],
      "metadata": {
        "id": "MYuNnUHdLo5V"
      }
    },
    {
      "cell_type": "code",
      "source": [
        "def sapa(nama):\n",
        "    print(f\"Halo, {nama}!\")\n",
        "\n",
        "# Memanggil fungsi\n",
        "hasil = sapa(\"Budi\")\n",
        "print(hasil)  # Output: None"
      ],
      "metadata": {
        "colab": {
          "base_uri": "https://localhost:8080/"
        },
        "id": "tKdWiVEBLxm8",
        "outputId": "1329a4c2-3337-40b5-b772-3bfab338b3a2"
      },
      "execution_count": null,
      "outputs": [
        {
          "output_type": "stream",
          "name": "stdout",
          "text": [
            "Halo, Budi!\n",
            "None\n"
          ]
        }
      ]
    },
    {
      "cell_type": "markdown",
      "source": [
        "# Fungsi Anonim Lambda"
      ],
      "metadata": {
        "id": "nuJ_-lhJL-La"
      }
    },
    {
      "cell_type": "markdown",
      "source": [
        "Fungsi anonim atau fungsi lambda dalam Python adalah fungsi kecil dan sederhana yang tidak memiliki nama. Lambda digunakan untuk mendefinisikan fungsi yang hanya terdiri dari satu ekspresi. Biasanya, fungsi ini digunakan untuk tugas sederhana atau operasi yang hanya dilakukan satu kali.\n",
        "\n",
        "Fungsi lambda adalah cara yang ringkas dan cepat untuk membuat fungsi, tanpa perlu menggunakan kata kunci def."
      ],
      "metadata": {
        "id": "Z1tNToKYMwSz"
      }
    },
    {
      "cell_type": "markdown",
      "source": [
        "**Sintax Lambda**\n",
        "\n",
        "lambda argumen1, argumen2, ...: ekspresi"
      ],
      "metadata": {
        "id": "emUMv-x-M0ax"
      }
    },
    {
      "cell_type": "markdown",
      "source": [
        "**1. Fungsi Lambda Sederhana**"
      ],
      "metadata": {
        "id": "oxruRD0NNUTi"
      }
    },
    {
      "cell_type": "code",
      "source": [
        "# Fungsi lambda\n",
        "tambah = lambda a, b: a + b\n",
        "\n",
        "# Memanggil fungsi lambda\n",
        "hasil = tambah(10, 5)\n",
        "print(hasil)  # Output: 8"
      ],
      "metadata": {
        "colab": {
          "base_uri": "https://localhost:8080/"
        },
        "id": "FB3eVrZbMxoK",
        "outputId": "a75b165e-a915-4511-ca94-3ade9effdd11"
      },
      "execution_count": null,
      "outputs": [
        {
          "output_type": "stream",
          "name": "stdout",
          "text": [
            "15\n"
          ]
        }
      ]
    },
    {
      "cell_type": "markdown",
      "source": [
        "Penjelasan:\n",
        "\n",
        "\n",
        "*  tambah = lambda a, b: a + b: Fungsi lambda ini menerima dua argumen a dan b, lalu mengembalikan hasil penjumlahan a + b.\n",
        "*   Fungsi lambda ini diakses melalui variabel tambah.\n",
        "\n"
      ],
      "metadata": {
        "id": "hNSDhGIKNmwi"
      }
    },
    {
      "cell_type": "markdown",
      "source": [
        "**2. Lambda dengan Operasi Lain**"
      ],
      "metadata": {
        "id": "eFdjo2TRNZb-"
      }
    },
    {
      "cell_type": "code",
      "source": [
        "kuadrat = lambda x: x ** 2\n",
        "print(kuadrat(4))  # Output: 16\n",
        "print(kuadrat(7))  # Output: 49"
      ],
      "metadata": {
        "colab": {
          "base_uri": "https://localhost:8080/"
        },
        "id": "_uPauNx3Ne0R",
        "outputId": "954f9a73-aa8e-40cc-b835-ed572cb98b2e"
      },
      "execution_count": null,
      "outputs": [
        {
          "output_type": "stream",
          "name": "stdout",
          "text": [
            "16\n",
            "49\n"
          ]
        }
      ]
    },
    {
      "cell_type": "markdown",
      "source": [
        "Penjelasan:\n",
        "\n",
        "\n",
        "\n",
        "*   Lambda menerima satu argumen x dan mengembalikan hasil x ** 2 (kuadrat dari x).\n",
        "\n",
        "\n"
      ],
      "metadata": {
        "id": "3uIm4OJBNvpu"
      }
    },
    {
      "cell_type": "markdown",
      "source": [
        "# Dekorator Python"
      ],
      "metadata": {
        "id": "f36F8l5aOCQL"
      }
    },
    {
      "cell_type": "markdown",
      "source": [
        "Dekorator adalah sebuah fungsi yang menerima fungsi lain sebagai argumen dan mengembalikan fungsi baru yang dimodifikasi. Dengan kata lain, dekorator adalah \"fungsi yang mendekorasi fungsi lain\"."
      ],
      "metadata": {
        "id": "lFV_U7OBOOMo"
      }
    },
    {
      "cell_type": "markdown",
      "source": [
        "**Dekorator Sederhana**"
      ],
      "metadata": {
        "id": "3Bl43GBnPks2"
      }
    },
    {
      "cell_type": "code",
      "source": [
        "# Mendefinisikan dekorator\n",
        "def dekorator_sederhana(func):\n",
        "    def wrapper():\n",
        "        print(\"Sebelum fungsi dijalankan.\")\n",
        "        func()  # Menjalankan fungsi asli\n",
        "        print(\"Setelah fungsi dijalankan.\")\n",
        "    return wrapper\n",
        "\n",
        "# Menggunakan dekorator pada fungsi\n",
        "@dekorator_sederhana\n",
        "def halo():\n",
        "    print(\"Halo, ini adalah fungsi utama!\")\n",
        "\n",
        "# Memanggil fungsi\n",
        "halo()"
      ],
      "metadata": {
        "colab": {
          "base_uri": "https://localhost:8080/"
        },
        "id": "L0m_kdlYOWlB",
        "outputId": "5f39e9de-af85-4dd3-fdb1-0d42c7207059"
      },
      "execution_count": null,
      "outputs": [
        {
          "output_type": "stream",
          "name": "stdout",
          "text": [
            "Sebelum fungsi dijalankan.\n",
            "Halo, ini adalah fungsi utama!\n",
            "Setelah fungsi dijalankan.\n"
          ]
        }
      ]
    },
    {
      "cell_type": "markdown",
      "source": [
        "Penjelasan\n",
        "\n",
        "\n",
        "1.   Dekorator:\n",
        "\n",
        "*   dekorator_sederhana adalah fungsi dekorator yang menerima fungsi func sebagai argumen.\n",
        "*   Fungsi wrapper adalah fungsi pembungkus yang menambahkan perilaku tambahan sebelum dan sesudah menjalankan func.\n",
        "\n",
        "\n",
        "2.   Menggunakan Dekorator:\n",
        "\n",
        "*   @dekorator_sederhana ditempatkan di atas definisi fungsi halo.\n",
        "*   Ini sama seperti menulis halo = dekorator_sederhana(halo).\n"
      ],
      "metadata": {
        "id": "zGPX5LzOPDBD"
      }
    },
    {
      "cell_type": "markdown",
      "source": [
        "**Dekorator Bertingkat**"
      ],
      "metadata": {
        "id": "vuFty9kAPp0U"
      }
    },
    {
      "cell_type": "code",
      "source": [
        "# Dekorator pertama\n",
        "def dekorator1(func):\n",
        "    def wrapper():\n",
        "        print(\"Dekorator 1: Sebelum fungsi.\")\n",
        "        func()\n",
        "        print(\"Dekorator 1: Setelah fungsi.\")\n",
        "    return wrapper\n",
        "\n",
        "# Dekorator kedua\n",
        "def dekorator2(func):\n",
        "    def wrapper():\n",
        "        print(\"Dekorator 2: Sebelum fungsi.\")\n",
        "        func()\n",
        "        print(\"Dekorator 2: Setelah fungsi.\")\n",
        "    return wrapper\n",
        "\n",
        "# Menggunakan kedua dekorator\n",
        "@dekorator1\n",
        "@dekorator2\n",
        "def fungsi_utama():\n",
        "    print(\"Ini adalah fungsi utama.\")\n",
        "\n",
        "# Memanggil fungsi\n",
        "fungsi_utama()\n"
      ],
      "metadata": {
        "colab": {
          "base_uri": "https://localhost:8080/"
        },
        "id": "4gQLqEH7PtvY",
        "outputId": "77c5a954-0d46-4926-ddd5-c927a8567366"
      },
      "execution_count": null,
      "outputs": [
        {
          "output_type": "stream",
          "name": "stdout",
          "text": [
            "Dekorator 1: Sebelum fungsi.\n",
            "Dekorator 2: Sebelum fungsi.\n",
            "Ini adalah fungsi utama.\n",
            "Dekorator 2: Setelah fungsi.\n",
            "Dekorator 1: Setelah fungsi.\n"
          ]
        }
      ]
    },
    {
      "cell_type": "markdown",
      "source": [
        "Penjelasan:\n",
        "Dekorator diproses dari bawah ke atas:\n",
        "\n",
        "\n",
        "*   @dekorator2 membungkus fungsi fungsi_utama.\n",
        "*   @dekorator1 membungkus hasil dari dekorator sebelumnya."
      ],
      "metadata": {
        "id": "zoq-SN8ZPz-1"
      }
    },
    {
      "cell_type": "markdown",
      "source": [
        "# Generator Python"
      ],
      "metadata": {
        "id": "U3OIE3wHQQJa"
      }
    },
    {
      "cell_type": "markdown",
      "source": [
        "Generator di Python adalah jenis fungsi yang memungkinkan kita menghasilkan urutan nilai secara \"lazy\" (terlambat), artinya generator tidak menghasilkan seluruh urutan nilai sekaligus, melainkan hanya ketika diminta (menggunakan iterasi). Generator adalah cara yang efisien untuk menangani koleksi data besar atau alur data yang memerlukan waktu lama untuk diproses.\n",
        "\n",
        "Generator berfungsi dengan menggunakan kata kunci yield alih-alih return. Ketika fungsi generator dipanggil, ia tidak langsung mengembalikan nilai, tetapi memberikan kontrol kembali ke pemanggil. Fungsi generator kemudian dapat melanjutkan dari titik yang sebelumnya berhenti, memungkinkan nilai-nilai dihasilkan satu per satu."
      ],
      "metadata": {
        "id": "rZ_pdv6CQlPK"
      }
    },
    {
      "cell_type": "markdown",
      "source": [
        "Syntax Generator\n",
        "\n",
        "def nama_generator():\n",
        "    yield nilai\n"
      ],
      "metadata": {
        "id": "cMh1DhDnQmeP"
      }
    },
    {
      "cell_type": "markdown",
      "source": [
        "**Generator Sederhana**"
      ],
      "metadata": {
        "id": "4EogBx3iQ4Xd"
      }
    },
    {
      "cell_type": "code",
      "source": [
        "def hitung_angka():\n",
        "    yield 1\n",
        "    yield 2\n",
        "    yield 3\n",
        "\n",
        "# Memanggil generator\n",
        "generator = hitung_angka()\n",
        "\n",
        "# Mengambil nilai satu per satu\n",
        "print(next(generator))  # Output: 1\n",
        "print(next(generator))  # Output: 2\n",
        "print(next(generator))  # Output: 3"
      ],
      "metadata": {
        "colab": {
          "base_uri": "https://localhost:8080/"
        },
        "id": "-Psr6ol-Q7SQ",
        "outputId": "165a8c37-3db5-4123-d69a-b612588e981b"
      },
      "execution_count": null,
      "outputs": [
        {
          "output_type": "stream",
          "name": "stdout",
          "text": [
            "1\n",
            "2\n",
            "3\n"
          ]
        }
      ]
    },
    {
      "cell_type": "markdown",
      "source": [
        "Penjelasan:\n",
        "1. Fungsi hitung_angka adalah generator yang menghasilkan angka satu per satu dengan yield.\n",
        "2. next(generator) digunakan untuk mengambil nilai berikutnya yang dihasilkan oleh generator. Setiap kali dipanggil, generator melanjutkan dari titik di mana eksekusi terakhir berhenti.\n",
        "\n"
      ],
      "metadata": {
        "id": "Rxy3FHaFRJVQ"
      }
    },
    {
      "cell_type": "markdown",
      "source": [
        "**Generator dengan Loop**"
      ],
      "metadata": {
        "id": "9eCRr4wpREZz"
      }
    },
    {
      "cell_type": "code",
      "source": [
        "def hitung_angka(n):\n",
        "    for i in range(n):\n",
        "        yield i\n",
        "\n",
        "# Memanggil generator\n",
        "generator = hitung_angka(5)\n",
        "\n",
        "# Mengambil nilai dari generator\n",
        "for angka in generator:\n",
        "    print(angka)\n"
      ],
      "metadata": {
        "colab": {
          "base_uri": "https://localhost:8080/"
        },
        "id": "FJxweROKRX6R",
        "outputId": "6ce03d18-4e48-4eec-ee5d-3c50a86e0b2b"
      },
      "execution_count": null,
      "outputs": [
        {
          "output_type": "stream",
          "name": "stdout",
          "text": [
            "0\n",
            "1\n",
            "2\n",
            "3\n",
            "4\n"
          ]
        }
      ]
    },
    {
      "cell_type": "markdown",
      "source": [
        "Penjelasan:\n",
        "1. Fungsi hitung_angka(n) menghasilkan angka dari 0 hingga n-1 menggunakan yield.\n",
        "2. for loop digunakan untuk mengiterasi elemen yang dihasilkan oleh generator satu per satu."
      ],
      "metadata": {
        "id": "GO79aBMGRbae"
      }
    },
    {
      "cell_type": "code",
      "source": [],
      "metadata": {
        "id": "u9HYCUZMVerq"
      },
      "execution_count": null,
      "outputs": []
    },
    {
      "cell_type": "markdown",
      "source": [
        "# Modul dalam Python"
      ],
      "metadata": {
        "id": "_qf1zSoaRvR-"
      }
    },
    {
      "cell_type": "markdown",
      "source": [
        "**Modul Math**"
      ],
      "metadata": {
        "id": "2jvs3xbkSc6Q"
      }
    },
    {
      "cell_type": "markdown",
      "source": [
        "1. Menghitung Akar Kuadrat\n",
        "Fungsi sqrt() digunakan untuk menghitung akar kuadrat dari angka."
      ],
      "metadata": {
        "id": "uiFOEcIISflo"
      }
    },
    {
      "cell_type": "code",
      "source": [
        "import math\n",
        "\n",
        "# Menghitung akar kuadrat dari 16\n",
        "hasil = math.sqrt(16)\n",
        "print(hasil)  # Output: 4.0\n"
      ],
      "metadata": {
        "colab": {
          "base_uri": "https://localhost:8080/"
        },
        "id": "cxfTQGGUUF85",
        "outputId": "ebd36202-bd3b-44f7-cfdb-300af8ae8279"
      },
      "execution_count": null,
      "outputs": [
        {
          "output_type": "stream",
          "name": "stdout",
          "text": [
            "4.0\n"
          ]
        }
      ]
    },
    {
      "cell_type": "markdown",
      "source": [
        "2. Menghitung Faktorial\n",
        "Fungsi factorial() digunakan untuk menghitung faktorial dari angka."
      ],
      "metadata": {
        "id": "pViYt7NQSiZf"
      }
    },
    {
      "cell_type": "code",
      "source": [
        "import math\n",
        "\n",
        "# Menghitung faktorial dari 5\n",
        "hasil = math.factorial(5)\n",
        "print(hasil)  # Output: 120\n"
      ],
      "metadata": {
        "colab": {
          "base_uri": "https://localhost:8080/"
        },
        "id": "FZcKc0PMULO7",
        "outputId": "3d346a22-883b-4d51-affe-ecddd85777df"
      },
      "execution_count": null,
      "outputs": [
        {
          "output_type": "stream",
          "name": "stdout",
          "text": [
            "120\n"
          ]
        }
      ]
    },
    {
      "cell_type": "markdown",
      "source": [
        "3. Menghitung Pangkat\n",
        "Fungsi pow() digunakan untuk menghitung pangkat atau eksponen dari angka."
      ],
      "metadata": {
        "id": "FxBkaZwzSmnM"
      }
    },
    {
      "cell_type": "code",
      "source": [
        "import math\n",
        "\n",
        "# Menghitung 2 pangkat 3\n",
        "hasil = math.pow(2, 3)\n",
        "print(hasil)  # Output: 8.0\n"
      ],
      "metadata": {
        "colab": {
          "base_uri": "https://localhost:8080/"
        },
        "id": "4aZYvdGYUOe0",
        "outputId": "307619a6-781d-474a-fd4e-4f454b696454"
      },
      "execution_count": null,
      "outputs": [
        {
          "output_type": "stream",
          "name": "stdout",
          "text": [
            "8.0\n"
          ]
        }
      ]
    },
    {
      "cell_type": "markdown",
      "source": [
        "4. Menghitung Logaritma\n",
        "Fungsi log() digunakan untuk menghitung logaritma natural (basis e) dari angka. Anda juga bisa menghitung logaritma dengan basis lain."
      ],
      "metadata": {
        "id": "RhFQCKo7SpP1"
      }
    },
    {
      "cell_type": "code",
      "source": [
        "import math\n",
        "\n",
        "# Menghitung logaritma natural dari 10\n",
        "hasil = math.log(10)\n",
        "print(hasil)  # Output: 2.302585092994046\n",
        "\n",
        "# Menghitung logaritma dengan basis 10 dari 1000\n",
        "hasil_basis_10 = math.log(1000, 10)\n",
        "print(hasil_basis_10)  # Output: 3.0\n"
      ],
      "metadata": {
        "colab": {
          "base_uri": "https://localhost:8080/"
        },
        "id": "NFQ7uaNuUSvc",
        "outputId": "3dd304f1-f751-4f7a-c18f-7fd4c8e104d0"
      },
      "execution_count": null,
      "outputs": [
        {
          "output_type": "stream",
          "name": "stdout",
          "text": [
            "2.302585092994046\n",
            "2.9999999999999996\n"
          ]
        }
      ]
    },
    {
      "cell_type": "markdown",
      "source": [
        "5. Menghitung Sinus, Cosinus, dan Tangen\n",
        "Fungsi sin(), cos(), tan() digunakan untuk menghitung sinus, cosinus, dan tangen dari sudut (dalam radian)."
      ],
      "metadata": {
        "id": "SgjUmaqfTz9A"
      }
    },
    {
      "cell_type": "code",
      "source": [
        "import math\n",
        "\n",
        "# Menghitung sinus dari 90 derajat (konversi derajat ke radian)\n",
        "sudut = math.radians(90)  # Mengonversi derajat ke radian\n",
        "hasil_sinus = math.sin(sudut)\n",
        "print(hasil_sinus)  # Output: 1.0\n",
        "\n",
        "# Menghitung cosinus dari 0 derajat (konversi derajat ke radian)\n",
        "sudut = math.radians(0)\n",
        "hasil_cosinus = math.cos(sudut)\n",
        "print(hasil_cosinus)  # Output: 1.0\n"
      ],
      "metadata": {
        "colab": {
          "base_uri": "https://localhost:8080/"
        },
        "id": "jbkomaKsUT1_",
        "outputId": "4f6eef22-0ff9-4d62-ecf0-2e3d478ffbaf"
      },
      "execution_count": null,
      "outputs": [
        {
          "output_type": "stream",
          "name": "stdout",
          "text": [
            "1.0\n",
            "1.0\n"
          ]
        }
      ]
    },
    {
      "cell_type": "markdown",
      "source": [
        "6. Menghitung Nilai Pi\n",
        "Modul math juga memiliki konstanta pi yang mewakili nilai π (pi)."
      ],
      "metadata": {
        "id": "J9JxqRBxT2jl"
      }
    },
    {
      "cell_type": "code",
      "source": [
        "import math\n",
        "\n",
        "# Menampilkan nilai pi\n",
        "print(math.pi)  # Output: 3.141592653589793\n"
      ],
      "metadata": {
        "colab": {
          "base_uri": "https://localhost:8080/"
        },
        "id": "AlifVUoIUWTO",
        "outputId": "f332302e-e655-46b7-a8cb-0c80797585ee"
      },
      "execution_count": null,
      "outputs": [
        {
          "output_type": "stream",
          "name": "stdout",
          "text": [
            "3.141592653589793\n"
          ]
        }
      ]
    },
    {
      "cell_type": "markdown",
      "source": [
        "7. Menghitung Nilai Trigonometri Lainnya\n",
        "Selain sin, cos, dan tan, modul math juga menyediakan fungsi lainnya seperti asin(), acos(), atan() untuk menghitung nilai kebalikan (arc) dari fungsi trigonometri."
      ],
      "metadata": {
        "id": "7kcYtYbpT5Hp"
      }
    },
    {
      "cell_type": "code",
      "source": [
        "import math\n",
        "\n",
        "# Menghitung arc sin (asin) dari 1 (dalam radian)\n",
        "hasil_asin = math.asin(1)\n",
        "print(hasil_asin)  # Output: 1.5707963267948966 (rad)\n"
      ],
      "metadata": {
        "colab": {
          "base_uri": "https://localhost:8080/"
        },
        "id": "t6HQ9cbsUYay",
        "outputId": "ce463570-aa8f-4ce1-e684-d86789bf8230"
      },
      "execution_count": null,
      "outputs": [
        {
          "output_type": "stream",
          "name": "stdout",
          "text": [
            "1.5707963267948966\n"
          ]
        }
      ]
    },
    {
      "cell_type": "markdown",
      "source": [
        "8. Menghitung Jumlah dan Rata-Rata\n",
        "Fungsi fsum() digunakan untuk menghitung jumlah dari urutan angka dengan akurasi floating-point lebih tinggi."
      ],
      "metadata": {
        "id": "rwQ85yxrT7nt"
      }
    },
    {
      "cell_type": "code",
      "source": [
        "import math\n",
        "\n",
        "# Menjumlahkan angka dengan akurasi tinggi\n",
        "angka = [1.1, 2.2, 3.3, 4.4]\n",
        "hasil = math.fsum(angka)\n",
        "print(hasil)  # Output: 11.0\n"
      ],
      "metadata": {
        "colab": {
          "base_uri": "https://localhost:8080/"
        },
        "id": "hNZ-HJYKUa26",
        "outputId": "02b6ba5c-e66a-49b3-c2a0-158d91436401"
      },
      "execution_count": null,
      "outputs": [
        {
          "output_type": "stream",
          "name": "stdout",
          "text": [
            "11.0\n"
          ]
        }
      ]
    },
    {
      "cell_type": "markdown",
      "source": [
        "9. Menghitung Angka Bulat Terdekat\n",
        "Fungsi round() digunakan untuk membulatkan angka ke angka terdekat. Modul math memiliki fungsi ceil() (membulatkan ke atas) dan floor() (membulatkan ke bawah).\n"
      ],
      "metadata": {
        "id": "QpkJmd4nT-Wl"
      }
    },
    {
      "cell_type": "code",
      "source": [
        "import math\n",
        "\n",
        "# Membulatkan angka ke atas\n",
        "hasil_ceil = math.ceil(4.3)\n",
        "print(hasil_ceil)  # Output: 5\n",
        "\n",
        "# Membulatkan angka ke bawah\n",
        "hasil_floor = math.floor(4.7)\n",
        "print(hasil_floor)  # Output: 4\n"
      ],
      "metadata": {
        "colab": {
          "base_uri": "https://localhost:8080/"
        },
        "id": "qICmaQ_bUc5L",
        "outputId": "5b6194ba-0f85-4ce8-ed13-7c6779e73da4"
      },
      "execution_count": null,
      "outputs": [
        {
          "output_type": "stream",
          "name": "stdout",
          "text": [
            "5\n",
            "4\n"
          ]
        }
      ]
    },
    {
      "cell_type": "markdown",
      "source": [
        "10. Menghitung Kombinasi dan Permutasi\n",
        "Modul math juga memiliki fungsi comb() dan perm() untuk menghitung kombinasi dan permutasi."
      ],
      "metadata": {
        "id": "GLIywcKvUCey"
      }
    },
    {
      "cell_type": "code",
      "source": [
        "import math\n",
        "\n",
        "# Menghitung kombinasi (nCr) dari 5 dan 3\n",
        "kombinasi = math.comb(5, 3)\n",
        "print(kombinasi)  # Output: 10\n",
        "\n",
        "# Menghitung permutasi (nPr) dari 5 dan 3\n",
        "permutasi = math.perm(5, 3)\n",
        "print(permutasi)  # Output: 60\n"
      ],
      "metadata": {
        "colab": {
          "base_uri": "https://localhost:8080/"
        },
        "id": "lkwnFnnNUezf",
        "outputId": "e07299eb-185c-40af-e7df-0ba56f9211eb"
      },
      "execution_count": null,
      "outputs": [
        {
          "output_type": "stream",
          "name": "stdout",
          "text": [
            "10\n",
            "60\n"
          ]
        }
      ]
    },
    {
      "cell_type": "markdown",
      "source": [
        "# Praktek Time"
      ],
      "metadata": {
        "id": "jyav2XPvVA7x"
      }
    },
    {
      "cell_type": "markdown",
      "source": [
        "**Soal 1**\n",
        "\n",
        "Buatlah sebuah fungsi yang menerima dua angka sebagai parameter, lalu mengembalikan hasil perkalian kedua angka tersebut. Kemudian, panggil fungsi tersebut dengan dua angka yang berbeda dan cetak hasilnya."
      ],
      "metadata": {
        "id": "S_5bkQ20F06H"
      }
    },
    {
      "cell_type": "markdown",
      "source": [
        "**Soal 2**\n",
        "\n",
        "Buatlah sebuah dekorator yang akan menambahkan output \"Fungsi telah dipanggil\" sebelum fungsi yang di dekorasi dijalankan dan output \"Fungsi telah selesai dijalankan\" setelah fungsi yang didekorasi selesai dijalankan. Kemudian buat sebuah fungsi untuk menampilkan nama dan dekorasi fungsi tersebut."
      ],
      "metadata": {
        "id": "826sKye2F9Ah"
      }
    },
    {
      "cell_type": "markdown",
      "source": [
        "**Soal 3**\n",
        "\n",
        "Buatlah sebuah fungsi untuk menghitung luas persegi panjang. Fungsi tersebut memiliki parameter panjang dan lebar, dimana parameter lebar memiliki nilai default 10. Panggil fungsi tersebut dengan hanya memberikan parameter panjang, lalu panggil kembali dengan memberikan kedua parameter."
      ],
      "metadata": {
        "id": "SeaS969iGGUm"
      }
    }
  ]
}